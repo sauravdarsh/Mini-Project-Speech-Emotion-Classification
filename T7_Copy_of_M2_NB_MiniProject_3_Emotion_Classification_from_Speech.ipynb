{
  "nbformat": 4,
  "nbformat_minor": 5,
  "metadata": {
    "colab": {
      "provenance": [],
      "toc_visible": true,
      "include_colab_link": true
    },
    "kernelspec": {
      "display_name": "Python 3",
      "language": "python",
      "name": "python3"
    },
    "language_info": {
      "codemirror_mode": {
        "name": "ipython",
        "version": 3
      },
      "file_extension": ".py",
      "mimetype": "text/x-python",
      "name": "python",
      "nbconvert_exporter": "python",
      "pygments_lexer": "ipython3",
      "version": "3.6.9"
    }
  },
  "cells": [
    {
      "cell_type": "markdown",
      "metadata": {
        "id": "view-in-github",
        "colab_type": "text"
      },
      "source": [
        "<a href=\"https://colab.research.google.com/github/karthik-palaniappan/Mini-Project-Speech-Emotion-Classification/blob/main/T7_Copy_of_M2_NB_MiniProject_3_Emotion_Classification_from_Speech.ipynb\" target=\"_parent\"><img src=\"https://colab.research.google.com/assets/colab-badge.svg\" alt=\"Open In Colab\"/></a>"
      ]
    },
    {
      "cell_type": "markdown",
      "metadata": {
        "id": "associate-sunset"
      },
      "source": [
        "# Advanced Certification Program in Computational Data Science\n",
        "## A program by IISc and TalentSprint\n",
        "### Mini-Project: Speech Emotion Classification"
      ],
      "id": "associate-sunset"
    },
    {
      "cell_type": "markdown",
      "metadata": {
        "id": "handled-tooth"
      },
      "source": [
        "## Problem Statement"
      ],
      "id": "handled-tooth"
    },
    {
      "cell_type": "markdown",
      "metadata": {
        "id": "accessory-watts"
      },
      "source": [
        "Build a model to recognize emotion from speech using Ensemble learning"
      ],
      "id": "accessory-watts"
    },
    {
      "cell_type": "markdown",
      "metadata": {
        "id": "twenty-indonesia"
      },
      "source": [
        "## Learning Objectives"
      ],
      "id": "twenty-indonesia"
    },
    {
      "cell_type": "markdown",
      "metadata": {
        "id": "honest-friendship"
      },
      "source": [
        "At the end of the mini-project, you will be able to :\n",
        "\n",
        "* extract the features from audio data\n",
        "* implement ML classification algorithms individually and as Ensembles, to classify emotions\n",
        "* record the voice sample and test it with trained model"
      ],
      "id": "honest-friendship"
    },
    {
      "cell_type": "markdown",
      "metadata": {
        "id": "lesbian-bottom"
      },
      "source": [
        "## Dataset"
      ],
      "id": "lesbian-bottom"
    },
    {
      "cell_type": "markdown",
      "metadata": {
        "id": "fixed-trainer"
      },
      "source": [
        "**TESS Dataset**\n",
        "\n",
        "The first dataset chosen for this mini-project is the [TESS](https://dataverse.scholarsportal.info/dataset.xhtml?persistentId=doi:10.5683/SP2/E8H2MF) (Toronto emotional speech set) dataset. It contains 2880 files.  A set of 200 target words were spoken in the carrier phrase \"Say the word _____' by two actresses and the sets were recorded in seven different emotions (anger, disgust, fear, happiness, pleasant surprise, sadness, and neutral). Both actresses spoke English as their first language, were university educated, and had musical training. Audiometric testing indicated that both actresses had thresholds within the normal range."
      ],
      "id": "fixed-trainer"
    },
    {
      "cell_type": "markdown",
      "metadata": {
        "id": "Roo5A2aLVI07"
      },
      "source": [
        "**Ravdess Dataset**\n",
        "\n",
        "The second dataset chosen for this mini-project is [Ravdess](https://zenodo.org/record/1188976#.YLczy4XivIU) (The Ryerson Audio-Visual Database of Emotional Speech and Song). This dataset contains 1440 files: 60 trials per actor x 24 actors = 1440. The RAVDESS contains 24 professional actors (12 female, 12 male), vocalizing two lexically-matched statements in a neutral North American accent. Speech emotions includes calm, happy, sad, angry, fearful, surprise, and disgust expressions. Each expression is produced at two levels of emotional intensity (normal, strong), with an additional neutral expression.\n",
        "\n",
        "**File naming convention**\n",
        "\n",
        "Each of the 1440 files has a unique filename. The filename consists of a 7-part numerical identifier (e.g., 03-01-06-01-02-01-12.wav). These identifiers define the stimulus characteristics:\n",
        "\n",
        "**Filename identifiers**\n",
        "\n",
        "* Modality (01 = full-AV, 02 = video-only, 03 = audio-only).\n",
        "* Vocal channel (01 = speech, 02 = song).\n",
        "* Emotion (01 = neutral, 02 = calm, 03 = happy, 04 = sad, 05 = angry, 06 = fearful, 07 = disgust, 08 = surprised).\n",
        "* Emotional intensity (01 = normal, 02 = strong). NOTE: There is no strong intensity for the 'neutral' emotion.\n",
        "* Statement (01 = \"Kids are talking by the door\", 02 = \"Dogs are sitting by the door\").\n",
        "* Repetition (01 = 1st repetition, 02 = 2nd repetition).\n",
        "* Actor (01 to 24. Odd numbered actors are male, even numbered actors are female).\n",
        "\n",
        "Filename example: `03-01-06-01-02-01-12.wav`\n",
        "\n",
        "    - Audio-only - 03\n",
        "    - Speech - 01\n",
        "    - Fearful - 06\n",
        "    - Normal intensity - 01\n",
        "    - Statement \"dogs\" - 02\n",
        "    - 1st Repetition - 01\n",
        "    - 12th Actor - 12 Female, as the actor ID number is even."
      ],
      "id": "Roo5A2aLVI07"
    },
    {
      "cell_type": "markdown",
      "metadata": {
        "id": "GIR6a6TvVnRY"
      },
      "source": [
        "## Information"
      ],
      "id": "GIR6a6TvVnRY"
    },
    {
      "cell_type": "markdown",
      "metadata": {
        "id": "mediterranean-february"
      },
      "source": [
        "**Speech Emotion Recognition (SER)** is the task of recognizing the emotion from  speech, irrespective of the semantics. Humans can efficiently perform this task as a natural part of speech communication, however, the ability to conduct it automatically using programmable devices is a field of active research.\n",
        "\n",
        "Studies of automatic emotion recognition systems aim to create efficient, real-time methods of detecting the emotions of mobile phone users, call center operators and customers, car drivers, pilots, and many other human-machine communication users. Adding emotions to machines forms an important aspect of making machines appear and act in a human-like manner\n",
        "\n",
        "Lets gain familiarity with some of the audio based features that are commonly used for SER.\n",
        "\n",
        "**Mel scale** — The mel scale (derived from the word *melody*) is a perceptual scale of pitches judged by listeners to be equal in distance from one another. The reference point between this scale and normal frequency measurement is defined by assigning a perceptual pitch of 1000 mels to a 1000 Hz tone, 40 dB above the listener's threshold. Above about 500 Hz, increasingly large intervals are judged by listeners to produce equal pitch increments. Refer [here](https://towardsdatascience.com/learning-from-audio-the-mel-scale-mel-spectrograms-and-mel-frequency-cepstral-coefficients-f5752b6324a8) for more detailed information.\n",
        "\n",
        "**Pitch** — how high or low a sound is. It depends on frequency, higher pitch is high frequency\n",
        "\n",
        "**Frequency** — speed of vibration of sound, measures wave cycles per second\n",
        "\n",
        "**Chroma** — Representation for audio where spectrum is projected onto 12 bins representing the 12 distinct semitones (or chroma). Computed by summing the log frequency magnitude spectrum across octaves.\n",
        "\n",
        "**Fourier Transforms** — used to convert from time domain to frequency domain. Time domain shows how signal changes over time. Frequency domain shows how much of the signal lies within each given frequency band over a range of frequencies"
      ],
      "id": "mediterranean-february"
    },
    {
      "cell_type": "markdown",
      "metadata": {
        "id": "Q5a6Dz9wCxOc"
      },
      "source": [
        "**Librosa**\n",
        "\n",
        "[Librosa](https://librosa.org/doc/latest/index.html) is a Python package, built for speech and audio analytics. It provides modular functions that simplify working with audio data and help in achieving a wide range of applications such as identification of the personal characteristics of different individuals' voice samples, detecting emotions from audio samples etc.\n",
        "\n",
        "For further details on the Librosa package, refer [here](https://conference.scipy.org/proceedings/scipy2015/pdfs/brian_mcfee.pdf).\n"
      ],
      "id": "Q5a6Dz9wCxOc"
    },
    {
      "cell_type": "markdown",
      "source": [
        "### **Kaggle Competition**"
      ],
      "metadata": {
        "id": "3fjmaAe32Z_K"
      },
      "id": "3fjmaAe32Z_K"
    },
    {
      "cell_type": "markdown",
      "source": [
        "Please refer to the link for viewing the\n",
        "[Kaggle Competition Document](https://drive.google.com/file/d/1kGJfpEC9dayjApciCYZr04NWT7XWkRhV/view?usp=sharing) and join the Kaggle Competition using the hyperlink given in this document under '*Kaggle* Competition site'.\n"
      ],
      "metadata": {
        "id": "y4yw7Ewy09Ut"
      },
      "id": "y4yw7Ewy09Ut"
    },
    {
      "cell_type": "markdown",
      "metadata": {
        "id": "operating-latter"
      },
      "source": [
        "## Grading = 10 Points"
      ],
      "id": "operating-latter"
    },
    {
      "cell_type": "code",
      "metadata": {
        "id": "talented-upset",
        "colab": {
          "base_uri": "https://localhost:8080/"
        },
        "outputId": "2001628c-fbba-4106-ad34-604ee54a62b2"
      },
      "source": [
        "#@title Download the datasets and install packages\n",
        "!wget -qq https://cdn.iisc.talentsprint.com/CDS/MiniProjects/Ravdess_Tess.zip\n",
        "!unzip -qq Ravdess_Tess.zip\n",
        "# Install packages\n",
        "!pip -qq install librosa soundfile\n",
        "!pip -qq install wavio\n",
        "print(\"Datasets downloaded successfully!\")"
      ],
      "id": "talented-upset",
      "execution_count": 1,
      "outputs": [
        {
          "output_type": "stream",
          "name": "stdout",
          "text": [
            "Datasets downloaded successfully!\n"
          ]
        }
      ]
    },
    {
      "cell_type": "markdown",
      "metadata": {
        "id": "appreciated-pattern"
      },
      "source": [
        "### Import Neccesary Packages"
      ],
      "id": "appreciated-pattern"
    },
    {
      "cell_type": "code",
      "metadata": {
        "id": "loose-marsh"
      },
      "source": [
        "import librosa\n",
        "import librosa.display\n",
        "import soundfile\n",
        "import os, glob, pickle\n",
        "import numpy as np\n",
        "import pandas as pd\n",
        "import IPython.display as ipd\n",
        "from matplotlib import pyplot as plt\n",
        "from datetime import datetime\n",
        "from IPython.display import Javascript\n",
        "from google.colab import output\n",
        "from base64 import b64decode\n",
        "import warnings\n",
        "warnings.filterwarnings('ignore')\n",
        "# sklearn\n",
        "from sklearn.model_selection import train_test_split\n",
        "from sklearn.metrics import accuracy_score\n",
        "from sklearn.linear_model import LogisticRegression\n",
        "from sklearn.ensemble import RandomForestClassifier\n",
        "from sklearn.svm import SVC\n",
        "from sklearn import tree\n",
        "from sklearn.ensemble import VotingClassifier"
      ],
      "id": "loose-marsh",
      "execution_count": 2,
      "outputs": []
    },
    {
      "cell_type": "markdown",
      "metadata": {
        "id": "2vxa85gvorY5"
      },
      "source": [
        "### Work-Flow\n",
        "\n",
        "* Load the TESS audio data and extract features and labels\n",
        "\n",
        "* Load the Ravdess audio data and extract features\n",
        "\n",
        "* Combine both the audio dataset features\n",
        "\n",
        "* Train and test the model with TESS + Ravdess Data\n",
        "\n",
        "* Record the team audio samples and add them to TESS + Ravdess data\n",
        "\n",
        "* Train and test the model with TESS + Ravdess + Team Recorded (combined) data\n",
        "\n",
        "* Test each of the models with live audio sample recording."
      ],
      "id": "2vxa85gvorY5"
    },
    {
      "cell_type": "markdown",
      "metadata": {
        "id": "compressed-reflection"
      },
      "source": [
        "### Load the Tess data and Ravdess data audio files (1 point)\n",
        "\n",
        "Hint: `glob.glob`"
      ],
      "id": "compressed-reflection"
    },
    {
      "cell_type": "code",
      "metadata": {
        "id": "518e945a",
        "colab": {
          "base_uri": "https://localhost:8080/"
        },
        "outputId": "0afb57b6-1a9b-42ce-d6cd-5282b5188500"
      },
      "source": [
        "# YOUR CODE HERE\n",
        "\n",
        "TESS_files = glob.glob(\"Tess/*/*.wav\")\n",
        "print(\"TESS:\",len(TESS_files))\n",
        "\n",
        "RAVDESS_files = glob.glob(\"ravdess/*/*.wav\")\n",
        "len(RAVDESS_files)\n",
        "print(\"RAVDESS:\",len(RAVDESS_files))"
      ],
      "id": "518e945a",
      "execution_count": 3,
      "outputs": [
        {
          "output_type": "stream",
          "name": "stdout",
          "text": [
            "TESS: 2679\n",
            "RAVDESS: 1168\n"
          ]
        }
      ]
    },
    {
      "cell_type": "markdown",
      "metadata": {
        "id": "sound-chest"
      },
      "source": [
        "#### Play the sample audio"
      ],
      "id": "sound-chest"
    },
    {
      "cell_type": "code",
      "metadata": {
        "id": "personalized-wildlife",
        "colab": {
          "base_uri": "https://localhost:8080/",
          "height": 93
        },
        "outputId": "b4cdc2f6-df38-4999-fbfe-93d56a286341"
      },
      "source": [
        "# YOUR CODE HERE\n",
        "i = 0\n",
        "print(TESS_files[i])\n",
        "ipd.Audio(TESS_files[i])"
      ],
      "id": "personalized-wildlife",
      "execution_count": 4,
      "outputs": [
        {
          "output_type": "stream",
          "name": "stdout",
          "text": [
            "Tess/OAF_neutral/OAF_kill_neutral.wav\n"
          ]
        },
        {
          "output_type": "execute_result",
          "data": {
            "text/plain": [
              "<IPython.lib.display.Audio object>"
            ],
            "text/html": [
              "\n",
              "                <audio  controls=\"controls\" >\n",
              "                    <source src=\"data:audio/x-wav;base64,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\" type=\"audio/x-wav\" />\n",
              "                    Your browser does not support the audio element.\n",
              "                </audio>\n",
              "              "
            ]
          },
          "metadata": {},
          "execution_count": 4
        }
      ]
    },
    {
      "cell_type": "code",
      "source": [
        "# Creating a pandas dataframe with the necessary columns\n",
        "\n",
        "Modality = {1: \"full-AV\", 2: \"video-only\", 3: \"audio-only\"}\n",
        "VocalChannel = {1: \"speech\", 2: \"song\"}\n",
        "Emotion = {1: \"neutral\", 2: \"calm\", 3: \"happy\", 4: \"sad\", 5: \"angry\", 6: \"fearful\", 7: \"disgust\", 8: \"surprised\"}\n",
        "EmotionalIntensity = {1: \"normal\", 2: \"strong\", 3: \"Unknown\"} # NOTE: There is no strong intensity for the 'neutral' emotion.\n",
        "Statement = {1: \"Kids are talking by the door\", 2: \"Dogs are sitting by the door\", 3: \"Say the word\"}\n",
        "Repetition = {1: \"1st repetition\", 2: \"2nd repetition\"}\n",
        "Actor = np.arange(1,27) #Actors 1 - 24 from RavDESS and 25 and 26 from TESS\n",
        "ActorGender = {1: \"Female\", 2: \"Male\"}\n",
        "ActorAge = {1: \"Young\", 2: \"Old\", 3: \"Unknown\"}\n",
        "DataBase = {1: \"RAVDESS\", 2: \"TESS\"}\n",
        "\n",
        "data_columns = [\"Modality\", \"VocalChannel\", \"Emotion\", \"EmotionalIntensity\", \"Statement\", \"Repetition\", \"Actor\", \"ActorGender\", \"ActorAge\", \"DataBase\", \"FilePath\"]\n",
        "\n",
        "dtype_dict = {\n",
        "    \"Modality\": 'category',\n",
        "    'VocalChannel' : 'category',\n",
        "    'Emotion' : 'category',\n",
        "    'EmotionalIntensity' : 'category',\n",
        "    'Statement' : 'str',\n",
        "    'Repetition' : 'category',\n",
        "    'Actor' : 'category',\n",
        "    'ActorGender' : 'category',\n",
        "    'ActorAge' : 'category',\n",
        "    'DataBase' : 'category',\n",
        "    'FilePath' : 'str'}\n",
        "\n",
        "df = pd.DataFrame(columns=data_columns)\n",
        "df = df.astype(dtype=dtype_dict)\n",
        "df.info()"
      ],
      "metadata": {
        "colab": {
          "base_uri": "https://localhost:8080/"
        },
        "id": "PfxFNR01UaBw",
        "outputId": "6d500ebc-1ac1-48de-ca0f-205e4922b387"
      },
      "id": "PfxFNR01UaBw",
      "execution_count": 5,
      "outputs": [
        {
          "output_type": "stream",
          "name": "stdout",
          "text": [
            "<class 'pandas.core.frame.DataFrame'>\n",
            "Index: 0 entries\n",
            "Data columns (total 11 columns):\n",
            " #   Column              Non-Null Count  Dtype   \n",
            "---  ------              --------------  -----   \n",
            " 0   Modality            0 non-null      category\n",
            " 1   VocalChannel        0 non-null      category\n",
            " 2   Emotion             0 non-null      category\n",
            " 3   EmotionalIntensity  0 non-null      category\n",
            " 4   Statement           0 non-null      object  \n",
            " 5   Repetition          0 non-null      category\n",
            " 6   Actor               0 non-null      category\n",
            " 7   ActorGender         0 non-null      category\n",
            " 8   ActorAge            0 non-null      category\n",
            " 9   DataBase            0 non-null      category\n",
            " 10  FilePath            0 non-null      object  \n",
            "dtypes: category(9), object(2)\n",
            "memory usage: 972.0+ bytes\n"
          ]
        }
      ]
    },
    {
      "cell_type": "code",
      "source": [
        "\"\"\"\n",
        "Modality = {1: \"full-AV\", 2: \"video-only\", 3: \"audio-only\"}\n",
        "VocalChannel = {1: \"speech\", 2: \"song\"}\n",
        "Emotion = {1: \"neutral\", 2: \"calm\", 3: \"happy\", 4: \"sad\", 5: \"angry\", 6: \"fearful\", 7: \"disgust\", 8: \"surprised\"}\n",
        "EmotionalIntensity = {1: \"normal\", 2: \"strong\", 3: \"Unknown\"} # NOTE: There is no strong intensity for the 'neutral' emotion.\n",
        "Statement = {1: \"Kids are talking by the door\", 2: \"Dogs are sitting by the door\", 3: \"Say the word\"}\n",
        "Repetition = {1: \"1st repetition\", 2: \"2nd repetition\"}\n",
        "Actor = np.arange(1,27) #Actors 1 - 24 from RavDESS and 25 and 26 from TESS\n",
        "ActorGender = {1: \"Female\", 2: \"Male\"}\n",
        "ActorAge = {1: \"Young\", 2: \"Old\", 3: \"Unknown\"}\n",
        "DataBase = {1: \"RAVDESS\", 2: \"TESS\"}\n",
        "\"\"\"\n",
        "\n",
        "def TESS_name_decoder(TESSname):\n",
        "\n",
        "  import re\n",
        "\n",
        "  actor = re.search('(?<=Tess/)[YO]AF', TESSname).group(0) #\n",
        "  word  = re.search('(?<=_)[a-zA-Z]+(?=_)', TESSname).group(0)\n",
        "  emotion  = re.search('(?<=_)[a-zA-Z]+(?=\\.wav)', TESSname).group(0)\n",
        "\n",
        "  Mod = 3\n",
        "  VC = 1\n",
        "  Em = emotion #Emotion - to be reset after parsing the name\n",
        "  EI = 3\n",
        "  St = Statement[3] + \" \" + word\n",
        "  Rp = 1\n",
        "  Actor = 25 if actor == 'YAF' else 26 # 25 for YAF and 26 for OAF\n",
        "  AG = 1\n",
        "  AA = 1 if actor == 'YAF' else 2 # 1 for young and 2 for old\n",
        "  DB = 2\n",
        "  FilePath = TESSname\n",
        "\n",
        "  return {\"Modality\": Modality[Mod],\n",
        "          \"VocalChannel\": VocalChannel[VC],\n",
        "          \"Emotion\": Em,\n",
        "          \"EmotionalIntensity\": EmotionalIntensity[EI],\n",
        "          \"Statement\": St,\n",
        "          \"Repetition\": Repetition[Rp],\n",
        "          \"Actor\": Actor,\n",
        "          \"ActorGender\": ActorGender[AG],\n",
        "          \"ActorAge\": ActorAge[AA],\n",
        "          \"DataBase\": DataBase[DB],\n",
        "          \"FilePath\": FilePath}\n",
        "\n",
        "TESS_name_decoder(TESS_files[0])"
      ],
      "metadata": {
        "colab": {
          "base_uri": "https://localhost:8080/"
        },
        "id": "-pLZkc98WkUe",
        "outputId": "04a749c1-a5d1-48db-9347-e2464e1d88af"
      },
      "id": "-pLZkc98WkUe",
      "execution_count": 6,
      "outputs": [
        {
          "output_type": "execute_result",
          "data": {
            "text/plain": [
              "{'Modality': 'audio-only',\n",
              " 'VocalChannel': 'speech',\n",
              " 'Emotion': 'neutral',\n",
              " 'EmotionalIntensity': 'Unknown',\n",
              " 'Statement': 'Say the word kill',\n",
              " 'Repetition': '1st repetition',\n",
              " 'Actor': 26,\n",
              " 'ActorGender': 'Female',\n",
              " 'ActorAge': 'Old',\n",
              " 'DataBase': 'TESS',\n",
              " 'FilePath': 'Tess/OAF_neutral/OAF_kill_neutral.wav'}"
            ]
          },
          "metadata": {},
          "execution_count": 6
        }
      ]
    },
    {
      "cell_type": "code",
      "source": [
        "\"\"\"\n",
        "Modality = {1: \"full-AV\", 2: \"video-only\", 3: \"audio-only\"}\n",
        "VocalChannel = {1: \"speech\", 2: \"song\"}\n",
        "Emotion = {1: \"neutral\", 2: \"calm\", 3: \"happy\", 4: \"sad\", 5: \"angry\", 6: \"fearful\", 7: \"disgust\", 8: \"surprised\"}\n",
        "EmotionalIntensity = {1: \"normal\", 2: \"strong\", 3: \"Unknown\"} # NOTE: There is no strong intensity for the 'neutral' emotion.\n",
        "Statement = {1: \"Kids are talking by the door\", 2: \"Dogs are sitting by the door\", 3: \"Say the word\"}\n",
        "Repetition = {1: \"1st repetition\", 2: \"2nd repetition\"}\n",
        "Actor = np.arange(1,27) #Actors 1 - 24 from RavDESS and 25 and 26 from TESS\n",
        "ActorGender = {1: \"Female\", 2: \"Male\"}\n",
        "ActorAge = {1: \"Young\", 2: \"Old\", 3: \"Unknown\"}\n",
        "DataBase = {1: \"RAVDESS\", 2: \"TESS\"}\n",
        "\"\"\"\n",
        "\n",
        "\"\"\"\n",
        "  word  = re.search('(?<=_)[a-xA-Z]+(?=_)', TESSname).group(0)\n",
        "\"\"\"\n",
        "\n",
        "def RAVDESS_name_decoder(RAVDESSname):\n",
        "\n",
        "  import re\n",
        "\n",
        "  actor = re.search('(?<=Actor_)\\d+', RAVDESSname).group(0) #\n",
        "  emotion  = re.search('(?<=[0-9]_).*?(?=\\.wav)', RAVDESSname).group(0)\n",
        "  envmt  = re.search('(?<=[0-9]/).*?(?=_)', RAVDESSname).group(0).split('-')\n",
        "\n",
        "\n",
        "  Mod = int(envmt[0])\n",
        "  VC = int(envmt[1])\n",
        "  Em = emotion #Emotion - to be reset after parsing the name\n",
        "  EI = int(envmt[3])\n",
        "  St = Statement[int(envmt[4])]\n",
        "  Rp = int(envmt[5])\n",
        "  Actor = int(envmt[6]) # 25 for YAF and 26 for OAF\n",
        "  AG = 1 if Actor%2==0 else 2\n",
        "  AA = 3\n",
        "  DB = 1\n",
        "  FilePath = RAVDESSname\n",
        "\n",
        "#  return (Mod, VC, Em, EI, St, Rp, Actor, AA, AG, AA, DB, FilePath)\n",
        "\n",
        "  return {\"Modality\": Modality[Mod],\n",
        "          \"VocalChannel\": VocalChannel[VC],\n",
        "          \"Emotion\": Em,\n",
        "          \"EmotionalIntensity\": EmotionalIntensity[EI],\n",
        "          \"Statement\": St,\n",
        "          \"Repetition\": Repetition[Rp],\n",
        "          \"Actor\": Actor,\n",
        "          \"ActorGender\": ActorGender[AG],\n",
        "          \"ActorAge\": ActorAge[AA],\n",
        "          \"DataBase\": DataBase[DB],\n",
        "          \"FilePath\": FilePath}\n",
        "\n",
        "print(RAVDESS_files[0])\n",
        "RAVDESS_name_decoder(RAVDESS_files[0])\n",
        "\n",
        "#ipd.Audio(RAVDESS_files[0])"
      ],
      "metadata": {
        "colab": {
          "base_uri": "https://localhost:8080/"
        },
        "id": "1IN2l9y7sDdy",
        "outputId": "5d743a65-8e45-4bba-cf7e-781926220fdc"
      },
      "id": "1IN2l9y7sDdy",
      "execution_count": 7,
      "outputs": [
        {
          "output_type": "stream",
          "name": "stdout",
          "text": [
            "ravdess/Actor_06/03-01-03-02-01-02-06_happy.wav\n"
          ]
        },
        {
          "output_type": "execute_result",
          "data": {
            "text/plain": [
              "{'Modality': 'audio-only',\n",
              " 'VocalChannel': 'speech',\n",
              " 'Emotion': 'happy',\n",
              " 'EmotionalIntensity': 'strong',\n",
              " 'Statement': 'Kids are talking by the door',\n",
              " 'Repetition': '2nd repetition',\n",
              " 'Actor': 6,\n",
              " 'ActorGender': 'Female',\n",
              " 'ActorAge': 'Unknown',\n",
              " 'DataBase': 'RAVDESS',\n",
              " 'FilePath': 'ravdess/Actor_06/03-01-03-02-01-02-06_happy.wav'}"
            ]
          },
          "metadata": {},
          "execution_count": 7
        }
      ]
    },
    {
      "cell_type": "code",
      "source": [
        "print(len(TESS_files))"
      ],
      "metadata": {
        "colab": {
          "base_uri": "https://localhost:8080/"
        },
        "id": "cRnJJgSjeB_O",
        "outputId": "22cd46f1-6eeb-452f-d136-3f5ffd6adbae"
      },
      "id": "cRnJJgSjeB_O",
      "execution_count": 8,
      "outputs": [
        {
          "output_type": "stream",
          "name": "stdout",
          "text": [
            "2679\n"
          ]
        }
      ]
    },
    {
      "cell_type": "code",
      "source": [
        "for t in TESS_files:\n",
        "  df = df.append(TESS_name_decoder(t), ignore_index=True)\n"
      ],
      "metadata": {
        "id": "K8UTSW8MxYsD"
      },
      "id": "K8UTSW8MxYsD",
      "execution_count": 9,
      "outputs": []
    },
    {
      "cell_type": "code",
      "source": [
        "df.head()"
      ],
      "metadata": {
        "colab": {
          "base_uri": "https://localhost:8080/",
          "height": 313
        },
        "id": "cRTCh0zZrc5q",
        "outputId": "20df4271-ef66-4d1c-b863-84fd88ada5b9"
      },
      "id": "cRTCh0zZrc5q",
      "execution_count": 10,
      "outputs": [
        {
          "output_type": "execute_result",
          "data": {
            "text/plain": [
              "     Modality VocalChannel  Emotion EmotionalIntensity           Statement  \\\n",
              "0  audio-only       speech  neutral            Unknown   Say the word kill   \n",
              "1  audio-only       speech  neutral            Unknown   Say the word soap   \n",
              "2  audio-only       speech  neutral            Unknown  Say the word perch   \n",
              "3  audio-only       speech  neutral            Unknown    Say the word gin   \n",
              "4  audio-only       speech  neutral            Unknown   Say the word book   \n",
              "\n",
              "       Repetition Actor ActorGender ActorAge DataBase  \\\n",
              "0  1st repetition    26      Female      Old     TESS   \n",
              "1  1st repetition    26      Female      Old     TESS   \n",
              "2  1st repetition    26      Female      Old     TESS   \n",
              "3  1st repetition    26      Female      Old     TESS   \n",
              "4  1st repetition    26      Female      Old     TESS   \n",
              "\n",
              "                                 FilePath  \n",
              "0   Tess/OAF_neutral/OAF_kill_neutral.wav  \n",
              "1   Tess/OAF_neutral/OAF_soap_neutral.wav  \n",
              "2  Tess/OAF_neutral/OAF_perch_neutral.wav  \n",
              "3    Tess/OAF_neutral/OAF_gin_neutral.wav  \n",
              "4   Tess/OAF_neutral/OAF_book_neutral.wav  "
            ],
            "text/html": [
              "\n",
              "  <div id=\"df-8e2c337a-70ab-48c1-b403-8cb2cf37ddf4\" class=\"colab-df-container\">\n",
              "    <div>\n",
              "<style scoped>\n",
              "    .dataframe tbody tr th:only-of-type {\n",
              "        vertical-align: middle;\n",
              "    }\n",
              "\n",
              "    .dataframe tbody tr th {\n",
              "        vertical-align: top;\n",
              "    }\n",
              "\n",
              "    .dataframe thead th {\n",
              "        text-align: right;\n",
              "    }\n",
              "</style>\n",
              "<table border=\"1\" class=\"dataframe\">\n",
              "  <thead>\n",
              "    <tr style=\"text-align: right;\">\n",
              "      <th></th>\n",
              "      <th>Modality</th>\n",
              "      <th>VocalChannel</th>\n",
              "      <th>Emotion</th>\n",
              "      <th>EmotionalIntensity</th>\n",
              "      <th>Statement</th>\n",
              "      <th>Repetition</th>\n",
              "      <th>Actor</th>\n",
              "      <th>ActorGender</th>\n",
              "      <th>ActorAge</th>\n",
              "      <th>DataBase</th>\n",
              "      <th>FilePath</th>\n",
              "    </tr>\n",
              "  </thead>\n",
              "  <tbody>\n",
              "    <tr>\n",
              "      <th>0</th>\n",
              "      <td>audio-only</td>\n",
              "      <td>speech</td>\n",
              "      <td>neutral</td>\n",
              "      <td>Unknown</td>\n",
              "      <td>Say the word kill</td>\n",
              "      <td>1st repetition</td>\n",
              "      <td>26</td>\n",
              "      <td>Female</td>\n",
              "      <td>Old</td>\n",
              "      <td>TESS</td>\n",
              "      <td>Tess/OAF_neutral/OAF_kill_neutral.wav</td>\n",
              "    </tr>\n",
              "    <tr>\n",
              "      <th>1</th>\n",
              "      <td>audio-only</td>\n",
              "      <td>speech</td>\n",
              "      <td>neutral</td>\n",
              "      <td>Unknown</td>\n",
              "      <td>Say the word soap</td>\n",
              "      <td>1st repetition</td>\n",
              "      <td>26</td>\n",
              "      <td>Female</td>\n",
              "      <td>Old</td>\n",
              "      <td>TESS</td>\n",
              "      <td>Tess/OAF_neutral/OAF_soap_neutral.wav</td>\n",
              "    </tr>\n",
              "    <tr>\n",
              "      <th>2</th>\n",
              "      <td>audio-only</td>\n",
              "      <td>speech</td>\n",
              "      <td>neutral</td>\n",
              "      <td>Unknown</td>\n",
              "      <td>Say the word perch</td>\n",
              "      <td>1st repetition</td>\n",
              "      <td>26</td>\n",
              "      <td>Female</td>\n",
              "      <td>Old</td>\n",
              "      <td>TESS</td>\n",
              "      <td>Tess/OAF_neutral/OAF_perch_neutral.wav</td>\n",
              "    </tr>\n",
              "    <tr>\n",
              "      <th>3</th>\n",
              "      <td>audio-only</td>\n",
              "      <td>speech</td>\n",
              "      <td>neutral</td>\n",
              "      <td>Unknown</td>\n",
              "      <td>Say the word gin</td>\n",
              "      <td>1st repetition</td>\n",
              "      <td>26</td>\n",
              "      <td>Female</td>\n",
              "      <td>Old</td>\n",
              "      <td>TESS</td>\n",
              "      <td>Tess/OAF_neutral/OAF_gin_neutral.wav</td>\n",
              "    </tr>\n",
              "    <tr>\n",
              "      <th>4</th>\n",
              "      <td>audio-only</td>\n",
              "      <td>speech</td>\n",
              "      <td>neutral</td>\n",
              "      <td>Unknown</td>\n",
              "      <td>Say the word book</td>\n",
              "      <td>1st repetition</td>\n",
              "      <td>26</td>\n",
              "      <td>Female</td>\n",
              "      <td>Old</td>\n",
              "      <td>TESS</td>\n",
              "      <td>Tess/OAF_neutral/OAF_book_neutral.wav</td>\n",
              "    </tr>\n",
              "  </tbody>\n",
              "</table>\n",
              "</div>\n",
              "    <div class=\"colab-df-buttons\">\n",
              "\n",
              "  <div class=\"colab-df-container\">\n",
              "    <button class=\"colab-df-convert\" onclick=\"convertToInteractive('df-8e2c337a-70ab-48c1-b403-8cb2cf37ddf4')\"\n",
              "            title=\"Convert this dataframe to an interactive table.\"\n",
              "            style=\"display:none;\">\n",
              "\n",
              "  <svg xmlns=\"http://www.w3.org/2000/svg\" height=\"24px\" viewBox=\"0 -960 960 960\">\n",
              "    <path d=\"M120-120v-720h720v720H120Zm60-500h600v-160H180v160Zm220 220h160v-160H400v160Zm0 220h160v-160H400v160ZM180-400h160v-160H180v160Zm440 0h160v-160H620v160ZM180-180h160v-160H180v160Zm440 0h160v-160H620v160Z\"/>\n",
              "  </svg>\n",
              "    </button>\n",
              "\n",
              "  <style>\n",
              "    .colab-df-container {\n",
              "      display:flex;\n",
              "      gap: 12px;\n",
              "    }\n",
              "\n",
              "    .colab-df-convert {\n",
              "      background-color: #E8F0FE;\n",
              "      border: none;\n",
              "      border-radius: 50%;\n",
              "      cursor: pointer;\n",
              "      display: none;\n",
              "      fill: #1967D2;\n",
              "      height: 32px;\n",
              "      padding: 0 0 0 0;\n",
              "      width: 32px;\n",
              "    }\n",
              "\n",
              "    .colab-df-convert:hover {\n",
              "      background-color: #E2EBFA;\n",
              "      box-shadow: 0px 1px 2px rgba(60, 64, 67, 0.3), 0px 1px 3px 1px rgba(60, 64, 67, 0.15);\n",
              "      fill: #174EA6;\n",
              "    }\n",
              "\n",
              "    .colab-df-buttons div {\n",
              "      margin-bottom: 4px;\n",
              "    }\n",
              "\n",
              "    [theme=dark] .colab-df-convert {\n",
              "      background-color: #3B4455;\n",
              "      fill: #D2E3FC;\n",
              "    }\n",
              "\n",
              "    [theme=dark] .colab-df-convert:hover {\n",
              "      background-color: #434B5C;\n",
              "      box-shadow: 0px 1px 3px 1px rgba(0, 0, 0, 0.15);\n",
              "      filter: drop-shadow(0px 1px 2px rgba(0, 0, 0, 0.3));\n",
              "      fill: #FFFFFF;\n",
              "    }\n",
              "  </style>\n",
              "\n",
              "    <script>\n",
              "      const buttonEl =\n",
              "        document.querySelector('#df-8e2c337a-70ab-48c1-b403-8cb2cf37ddf4 button.colab-df-convert');\n",
              "      buttonEl.style.display =\n",
              "        google.colab.kernel.accessAllowed ? 'block' : 'none';\n",
              "\n",
              "      async function convertToInteractive(key) {\n",
              "        const element = document.querySelector('#df-8e2c337a-70ab-48c1-b403-8cb2cf37ddf4');\n",
              "        const dataTable =\n",
              "          await google.colab.kernel.invokeFunction('convertToInteractive',\n",
              "                                                    [key], {});\n",
              "        if (!dataTable) return;\n",
              "\n",
              "        const docLinkHtml = 'Like what you see? Visit the ' +\n",
              "          '<a target=\"_blank\" href=https://colab.research.google.com/notebooks/data_table.ipynb>data table notebook</a>'\n",
              "          + ' to learn more about interactive tables.';\n",
              "        element.innerHTML = '';\n",
              "        dataTable['output_type'] = 'display_data';\n",
              "        await google.colab.output.renderOutput(dataTable, element);\n",
              "        const docLink = document.createElement('div');\n",
              "        docLink.innerHTML = docLinkHtml;\n",
              "        element.appendChild(docLink);\n",
              "      }\n",
              "    </script>\n",
              "  </div>\n",
              "\n",
              "\n",
              "<div id=\"df-c9590834-2de4-4dc0-94c6-b052b14f12ef\">\n",
              "  <button class=\"colab-df-quickchart\" onclick=\"quickchart('df-c9590834-2de4-4dc0-94c6-b052b14f12ef')\"\n",
              "            title=\"Suggest charts\"\n",
              "            style=\"display:none;\">\n",
              "\n",
              "<svg xmlns=\"http://www.w3.org/2000/svg\" height=\"24px\"viewBox=\"0 0 24 24\"\n",
              "     width=\"24px\">\n",
              "    <g>\n",
              "        <path d=\"M19 3H5c-1.1 0-2 .9-2 2v14c0 1.1.9 2 2 2h14c1.1 0 2-.9 2-2V5c0-1.1-.9-2-2-2zM9 17H7v-7h2v7zm4 0h-2V7h2v10zm4 0h-2v-4h2v4z\"/>\n",
              "    </g>\n",
              "</svg>\n",
              "  </button>\n",
              "\n",
              "<style>\n",
              "  .colab-df-quickchart {\n",
              "      --bg-color: #E8F0FE;\n",
              "      --fill-color: #1967D2;\n",
              "      --hover-bg-color: #E2EBFA;\n",
              "      --hover-fill-color: #174EA6;\n",
              "      --disabled-fill-color: #AAA;\n",
              "      --disabled-bg-color: #DDD;\n",
              "  }\n",
              "\n",
              "  [theme=dark] .colab-df-quickchart {\n",
              "      --bg-color: #3B4455;\n",
              "      --fill-color: #D2E3FC;\n",
              "      --hover-bg-color: #434B5C;\n",
              "      --hover-fill-color: #FFFFFF;\n",
              "      --disabled-bg-color: #3B4455;\n",
              "      --disabled-fill-color: #666;\n",
              "  }\n",
              "\n",
              "  .colab-df-quickchart {\n",
              "    background-color: var(--bg-color);\n",
              "    border: none;\n",
              "    border-radius: 50%;\n",
              "    cursor: pointer;\n",
              "    display: none;\n",
              "    fill: var(--fill-color);\n",
              "    height: 32px;\n",
              "    padding: 0;\n",
              "    width: 32px;\n",
              "  }\n",
              "\n",
              "  .colab-df-quickchart:hover {\n",
              "    background-color: var(--hover-bg-color);\n",
              "    box-shadow: 0 1px 2px rgba(60, 64, 67, 0.3), 0 1px 3px 1px rgba(60, 64, 67, 0.15);\n",
              "    fill: var(--button-hover-fill-color);\n",
              "  }\n",
              "\n",
              "  .colab-df-quickchart-complete:disabled,\n",
              "  .colab-df-quickchart-complete:disabled:hover {\n",
              "    background-color: var(--disabled-bg-color);\n",
              "    fill: var(--disabled-fill-color);\n",
              "    box-shadow: none;\n",
              "  }\n",
              "\n",
              "  .colab-df-spinner {\n",
              "    border: 2px solid var(--fill-color);\n",
              "    border-color: transparent;\n",
              "    border-bottom-color: var(--fill-color);\n",
              "    animation:\n",
              "      spin 1s steps(1) infinite;\n",
              "  }\n",
              "\n",
              "  @keyframes spin {\n",
              "    0% {\n",
              "      border-color: transparent;\n",
              "      border-bottom-color: var(--fill-color);\n",
              "      border-left-color: var(--fill-color);\n",
              "    }\n",
              "    20% {\n",
              "      border-color: transparent;\n",
              "      border-left-color: var(--fill-color);\n",
              "      border-top-color: var(--fill-color);\n",
              "    }\n",
              "    30% {\n",
              "      border-color: transparent;\n",
              "      border-left-color: var(--fill-color);\n",
              "      border-top-color: var(--fill-color);\n",
              "      border-right-color: var(--fill-color);\n",
              "    }\n",
              "    40% {\n",
              "      border-color: transparent;\n",
              "      border-right-color: var(--fill-color);\n",
              "      border-top-color: var(--fill-color);\n",
              "    }\n",
              "    60% {\n",
              "      border-color: transparent;\n",
              "      border-right-color: var(--fill-color);\n",
              "    }\n",
              "    80% {\n",
              "      border-color: transparent;\n",
              "      border-right-color: var(--fill-color);\n",
              "      border-bottom-color: var(--fill-color);\n",
              "    }\n",
              "    90% {\n",
              "      border-color: transparent;\n",
              "      border-bottom-color: var(--fill-color);\n",
              "    }\n",
              "  }\n",
              "</style>\n",
              "\n",
              "  <script>\n",
              "    async function quickchart(key) {\n",
              "      const quickchartButtonEl =\n",
              "        document.querySelector('#' + key + ' button');\n",
              "      quickchartButtonEl.disabled = true;  // To prevent multiple clicks.\n",
              "      quickchartButtonEl.classList.add('colab-df-spinner');\n",
              "      try {\n",
              "        const charts = await google.colab.kernel.invokeFunction(\n",
              "            'suggestCharts', [key], {});\n",
              "      } catch (error) {\n",
              "        console.error('Error during call to suggestCharts:', error);\n",
              "      }\n",
              "      quickchartButtonEl.classList.remove('colab-df-spinner');\n",
              "      quickchartButtonEl.classList.add('colab-df-quickchart-complete');\n",
              "    }\n",
              "    (() => {\n",
              "      let quickchartButtonEl =\n",
              "        document.querySelector('#df-c9590834-2de4-4dc0-94c6-b052b14f12ef button');\n",
              "      quickchartButtonEl.style.display =\n",
              "        google.colab.kernel.accessAllowed ? 'block' : 'none';\n",
              "    })();\n",
              "  </script>\n",
              "</div>\n",
              "    </div>\n",
              "  </div>\n"
            ],
            "application/vnd.google.colaboratory.intrinsic+json": {
              "type": "dataframe",
              "variable_name": "df",
              "repr_error": "'str' object has no attribute 'empty'"
            }
          },
          "metadata": {},
          "execution_count": 10
        }
      ]
    },
    {
      "cell_type": "code",
      "source": [
        "for r in RAVDESS_files:\n",
        "  df = df.append(RAVDESS_name_decoder(r), ignore_index=True)"
      ],
      "metadata": {
        "id": "9nG2dLmiriN_"
      },
      "id": "9nG2dLmiriN_",
      "execution_count": 11,
      "outputs": []
    },
    {
      "cell_type": "code",
      "source": [
        "df.tail()"
      ],
      "metadata": {
        "colab": {
          "base_uri": "https://localhost:8080/",
          "height": 400
        },
        "id": "dcQyR-1prwWg",
        "outputId": "0e4eea1b-6915-40bb-9d5e-b38af7d894bc"
      },
      "id": "dcQyR-1prwWg",
      "execution_count": 12,
      "outputs": [
        {
          "output_type": "execute_result",
          "data": {
            "text/plain": [
              "        Modality VocalChannel  Emotion EmotionalIntensity  \\\n",
              "3842  audio-only       speech  disgust             normal   \n",
              "3843  audio-only       speech  neutral             normal   \n",
              "3844  audio-only       speech    happy             normal   \n",
              "3845  audio-only       speech  disgust             strong   \n",
              "3846  audio-only       speech      sad             normal   \n",
              "\n",
              "                         Statement      Repetition Actor ActorGender ActorAge  \\\n",
              "3842  Kids are talking by the door  2nd repetition    21        Male  Unknown   \n",
              "3843  Kids are talking by the door  1st repetition    21        Male  Unknown   \n",
              "3844  Kids are talking by the door  2nd repetition    21        Male  Unknown   \n",
              "3845  Dogs are sitting by the door  2nd repetition    21        Male  Unknown   \n",
              "3846  Dogs are sitting by the door  1st repetition    21        Male  Unknown   \n",
              "\n",
              "     DataBase                                           FilePath  \n",
              "3842  RAVDESS  ravdess/Actor_21/03-01-07-01-01-02-21_disgust.wav  \n",
              "3843  RAVDESS  ravdess/Actor_21/03-01-01-01-01-01-21_neutral.wav  \n",
              "3844  RAVDESS    ravdess/Actor_21/03-01-03-01-01-02-21_happy.wav  \n",
              "3845  RAVDESS  ravdess/Actor_21/03-01-07-02-02-02-21_disgust.wav  \n",
              "3846  RAVDESS      ravdess/Actor_21/03-01-04-01-02-01-21_sad.wav  "
            ],
            "text/html": [
              "\n",
              "  <div id=\"df-dc9c59d7-93d8-47f2-aa41-bda5d1e1f933\" class=\"colab-df-container\">\n",
              "    <div>\n",
              "<style scoped>\n",
              "    .dataframe tbody tr th:only-of-type {\n",
              "        vertical-align: middle;\n",
              "    }\n",
              "\n",
              "    .dataframe tbody tr th {\n",
              "        vertical-align: top;\n",
              "    }\n",
              "\n",
              "    .dataframe thead th {\n",
              "        text-align: right;\n",
              "    }\n",
              "</style>\n",
              "<table border=\"1\" class=\"dataframe\">\n",
              "  <thead>\n",
              "    <tr style=\"text-align: right;\">\n",
              "      <th></th>\n",
              "      <th>Modality</th>\n",
              "      <th>VocalChannel</th>\n",
              "      <th>Emotion</th>\n",
              "      <th>EmotionalIntensity</th>\n",
              "      <th>Statement</th>\n",
              "      <th>Repetition</th>\n",
              "      <th>Actor</th>\n",
              "      <th>ActorGender</th>\n",
              "      <th>ActorAge</th>\n",
              "      <th>DataBase</th>\n",
              "      <th>FilePath</th>\n",
              "    </tr>\n",
              "  </thead>\n",
              "  <tbody>\n",
              "    <tr>\n",
              "      <th>3842</th>\n",
              "      <td>audio-only</td>\n",
              "      <td>speech</td>\n",
              "      <td>disgust</td>\n",
              "      <td>normal</td>\n",
              "      <td>Kids are talking by the door</td>\n",
              "      <td>2nd repetition</td>\n",
              "      <td>21</td>\n",
              "      <td>Male</td>\n",
              "      <td>Unknown</td>\n",
              "      <td>RAVDESS</td>\n",
              "      <td>ravdess/Actor_21/03-01-07-01-01-02-21_disgust.wav</td>\n",
              "    </tr>\n",
              "    <tr>\n",
              "      <th>3843</th>\n",
              "      <td>audio-only</td>\n",
              "      <td>speech</td>\n",
              "      <td>neutral</td>\n",
              "      <td>normal</td>\n",
              "      <td>Kids are talking by the door</td>\n",
              "      <td>1st repetition</td>\n",
              "      <td>21</td>\n",
              "      <td>Male</td>\n",
              "      <td>Unknown</td>\n",
              "      <td>RAVDESS</td>\n",
              "      <td>ravdess/Actor_21/03-01-01-01-01-01-21_neutral.wav</td>\n",
              "    </tr>\n",
              "    <tr>\n",
              "      <th>3844</th>\n",
              "      <td>audio-only</td>\n",
              "      <td>speech</td>\n",
              "      <td>happy</td>\n",
              "      <td>normal</td>\n",
              "      <td>Kids are talking by the door</td>\n",
              "      <td>2nd repetition</td>\n",
              "      <td>21</td>\n",
              "      <td>Male</td>\n",
              "      <td>Unknown</td>\n",
              "      <td>RAVDESS</td>\n",
              "      <td>ravdess/Actor_21/03-01-03-01-01-02-21_happy.wav</td>\n",
              "    </tr>\n",
              "    <tr>\n",
              "      <th>3845</th>\n",
              "      <td>audio-only</td>\n",
              "      <td>speech</td>\n",
              "      <td>disgust</td>\n",
              "      <td>strong</td>\n",
              "      <td>Dogs are sitting by the door</td>\n",
              "      <td>2nd repetition</td>\n",
              "      <td>21</td>\n",
              "      <td>Male</td>\n",
              "      <td>Unknown</td>\n",
              "      <td>RAVDESS</td>\n",
              "      <td>ravdess/Actor_21/03-01-07-02-02-02-21_disgust.wav</td>\n",
              "    </tr>\n",
              "    <tr>\n",
              "      <th>3846</th>\n",
              "      <td>audio-only</td>\n",
              "      <td>speech</td>\n",
              "      <td>sad</td>\n",
              "      <td>normal</td>\n",
              "      <td>Dogs are sitting by the door</td>\n",
              "      <td>1st repetition</td>\n",
              "      <td>21</td>\n",
              "      <td>Male</td>\n",
              "      <td>Unknown</td>\n",
              "      <td>RAVDESS</td>\n",
              "      <td>ravdess/Actor_21/03-01-04-01-02-01-21_sad.wav</td>\n",
              "    </tr>\n",
              "  </tbody>\n",
              "</table>\n",
              "</div>\n",
              "    <div class=\"colab-df-buttons\">\n",
              "\n",
              "  <div class=\"colab-df-container\">\n",
              "    <button class=\"colab-df-convert\" onclick=\"convertToInteractive('df-dc9c59d7-93d8-47f2-aa41-bda5d1e1f933')\"\n",
              "            title=\"Convert this dataframe to an interactive table.\"\n",
              "            style=\"display:none;\">\n",
              "\n",
              "  <svg xmlns=\"http://www.w3.org/2000/svg\" height=\"24px\" viewBox=\"0 -960 960 960\">\n",
              "    <path d=\"M120-120v-720h720v720H120Zm60-500h600v-160H180v160Zm220 220h160v-160H400v160Zm0 220h160v-160H400v160ZM180-400h160v-160H180v160Zm440 0h160v-160H620v160ZM180-180h160v-160H180v160Zm440 0h160v-160H620v160Z\"/>\n",
              "  </svg>\n",
              "    </button>\n",
              "\n",
              "  <style>\n",
              "    .colab-df-container {\n",
              "      display:flex;\n",
              "      gap: 12px;\n",
              "    }\n",
              "\n",
              "    .colab-df-convert {\n",
              "      background-color: #E8F0FE;\n",
              "      border: none;\n",
              "      border-radius: 50%;\n",
              "      cursor: pointer;\n",
              "      display: none;\n",
              "      fill: #1967D2;\n",
              "      height: 32px;\n",
              "      padding: 0 0 0 0;\n",
              "      width: 32px;\n",
              "    }\n",
              "\n",
              "    .colab-df-convert:hover {\n",
              "      background-color: #E2EBFA;\n",
              "      box-shadow: 0px 1px 2px rgba(60, 64, 67, 0.3), 0px 1px 3px 1px rgba(60, 64, 67, 0.15);\n",
              "      fill: #174EA6;\n",
              "    }\n",
              "\n",
              "    .colab-df-buttons div {\n",
              "      margin-bottom: 4px;\n",
              "    }\n",
              "\n",
              "    [theme=dark] .colab-df-convert {\n",
              "      background-color: #3B4455;\n",
              "      fill: #D2E3FC;\n",
              "    }\n",
              "\n",
              "    [theme=dark] .colab-df-convert:hover {\n",
              "      background-color: #434B5C;\n",
              "      box-shadow: 0px 1px 3px 1px rgba(0, 0, 0, 0.15);\n",
              "      filter: drop-shadow(0px 1px 2px rgba(0, 0, 0, 0.3));\n",
              "      fill: #FFFFFF;\n",
              "    }\n",
              "  </style>\n",
              "\n",
              "    <script>\n",
              "      const buttonEl =\n",
              "        document.querySelector('#df-dc9c59d7-93d8-47f2-aa41-bda5d1e1f933 button.colab-df-convert');\n",
              "      buttonEl.style.display =\n",
              "        google.colab.kernel.accessAllowed ? 'block' : 'none';\n",
              "\n",
              "      async function convertToInteractive(key) {\n",
              "        const element = document.querySelector('#df-dc9c59d7-93d8-47f2-aa41-bda5d1e1f933');\n",
              "        const dataTable =\n",
              "          await google.colab.kernel.invokeFunction('convertToInteractive',\n",
              "                                                    [key], {});\n",
              "        if (!dataTable) return;\n",
              "\n",
              "        const docLinkHtml = 'Like what you see? Visit the ' +\n",
              "          '<a target=\"_blank\" href=https://colab.research.google.com/notebooks/data_table.ipynb>data table notebook</a>'\n",
              "          + ' to learn more about interactive tables.';\n",
              "        element.innerHTML = '';\n",
              "        dataTable['output_type'] = 'display_data';\n",
              "        await google.colab.output.renderOutput(dataTable, element);\n",
              "        const docLink = document.createElement('div');\n",
              "        docLink.innerHTML = docLinkHtml;\n",
              "        element.appendChild(docLink);\n",
              "      }\n",
              "    </script>\n",
              "  </div>\n",
              "\n",
              "\n",
              "<div id=\"df-5a349782-6b05-4dde-8de3-97469c740052\">\n",
              "  <button class=\"colab-df-quickchart\" onclick=\"quickchart('df-5a349782-6b05-4dde-8de3-97469c740052')\"\n",
              "            title=\"Suggest charts\"\n",
              "            style=\"display:none;\">\n",
              "\n",
              "<svg xmlns=\"http://www.w3.org/2000/svg\" height=\"24px\"viewBox=\"0 0 24 24\"\n",
              "     width=\"24px\">\n",
              "    <g>\n",
              "        <path d=\"M19 3H5c-1.1 0-2 .9-2 2v14c0 1.1.9 2 2 2h14c1.1 0 2-.9 2-2V5c0-1.1-.9-2-2-2zM9 17H7v-7h2v7zm4 0h-2V7h2v10zm4 0h-2v-4h2v4z\"/>\n",
              "    </g>\n",
              "</svg>\n",
              "  </button>\n",
              "\n",
              "<style>\n",
              "  .colab-df-quickchart {\n",
              "      --bg-color: #E8F0FE;\n",
              "      --fill-color: #1967D2;\n",
              "      --hover-bg-color: #E2EBFA;\n",
              "      --hover-fill-color: #174EA6;\n",
              "      --disabled-fill-color: #AAA;\n",
              "      --disabled-bg-color: #DDD;\n",
              "  }\n",
              "\n",
              "  [theme=dark] .colab-df-quickchart {\n",
              "      --bg-color: #3B4455;\n",
              "      --fill-color: #D2E3FC;\n",
              "      --hover-bg-color: #434B5C;\n",
              "      --hover-fill-color: #FFFFFF;\n",
              "      --disabled-bg-color: #3B4455;\n",
              "      --disabled-fill-color: #666;\n",
              "  }\n",
              "\n",
              "  .colab-df-quickchart {\n",
              "    background-color: var(--bg-color);\n",
              "    border: none;\n",
              "    border-radius: 50%;\n",
              "    cursor: pointer;\n",
              "    display: none;\n",
              "    fill: var(--fill-color);\n",
              "    height: 32px;\n",
              "    padding: 0;\n",
              "    width: 32px;\n",
              "  }\n",
              "\n",
              "  .colab-df-quickchart:hover {\n",
              "    background-color: var(--hover-bg-color);\n",
              "    box-shadow: 0 1px 2px rgba(60, 64, 67, 0.3), 0 1px 3px 1px rgba(60, 64, 67, 0.15);\n",
              "    fill: var(--button-hover-fill-color);\n",
              "  }\n",
              "\n",
              "  .colab-df-quickchart-complete:disabled,\n",
              "  .colab-df-quickchart-complete:disabled:hover {\n",
              "    background-color: var(--disabled-bg-color);\n",
              "    fill: var(--disabled-fill-color);\n",
              "    box-shadow: none;\n",
              "  }\n",
              "\n",
              "  .colab-df-spinner {\n",
              "    border: 2px solid var(--fill-color);\n",
              "    border-color: transparent;\n",
              "    border-bottom-color: var(--fill-color);\n",
              "    animation:\n",
              "      spin 1s steps(1) infinite;\n",
              "  }\n",
              "\n",
              "  @keyframes spin {\n",
              "    0% {\n",
              "      border-color: transparent;\n",
              "      border-bottom-color: var(--fill-color);\n",
              "      border-left-color: var(--fill-color);\n",
              "    }\n",
              "    20% {\n",
              "      border-color: transparent;\n",
              "      border-left-color: var(--fill-color);\n",
              "      border-top-color: var(--fill-color);\n",
              "    }\n",
              "    30% {\n",
              "      border-color: transparent;\n",
              "      border-left-color: var(--fill-color);\n",
              "      border-top-color: var(--fill-color);\n",
              "      border-right-color: var(--fill-color);\n",
              "    }\n",
              "    40% {\n",
              "      border-color: transparent;\n",
              "      border-right-color: var(--fill-color);\n",
              "      border-top-color: var(--fill-color);\n",
              "    }\n",
              "    60% {\n",
              "      border-color: transparent;\n",
              "      border-right-color: var(--fill-color);\n",
              "    }\n",
              "    80% {\n",
              "      border-color: transparent;\n",
              "      border-right-color: var(--fill-color);\n",
              "      border-bottom-color: var(--fill-color);\n",
              "    }\n",
              "    90% {\n",
              "      border-color: transparent;\n",
              "      border-bottom-color: var(--fill-color);\n",
              "    }\n",
              "  }\n",
              "</style>\n",
              "\n",
              "  <script>\n",
              "    async function quickchart(key) {\n",
              "      const quickchartButtonEl =\n",
              "        document.querySelector('#' + key + ' button');\n",
              "      quickchartButtonEl.disabled = true;  // To prevent multiple clicks.\n",
              "      quickchartButtonEl.classList.add('colab-df-spinner');\n",
              "      try {\n",
              "        const charts = await google.colab.kernel.invokeFunction(\n",
              "            'suggestCharts', [key], {});\n",
              "      } catch (error) {\n",
              "        console.error('Error during call to suggestCharts:', error);\n",
              "      }\n",
              "      quickchartButtonEl.classList.remove('colab-df-spinner');\n",
              "      quickchartButtonEl.classList.add('colab-df-quickchart-complete');\n",
              "    }\n",
              "    (() => {\n",
              "      let quickchartButtonEl =\n",
              "        document.querySelector('#df-5a349782-6b05-4dde-8de3-97469c740052 button');\n",
              "      quickchartButtonEl.style.display =\n",
              "        google.colab.kernel.accessAllowed ? 'block' : 'none';\n",
              "    })();\n",
              "  </script>\n",
              "</div>\n",
              "    </div>\n",
              "  </div>\n"
            ],
            "application/vnd.google.colaboratory.intrinsic+json": {
              "type": "dataframe",
              "repr_error": "'str' object has no attribute 'empty'"
            }
          },
          "metadata": {},
          "execution_count": 12
        }
      ]
    },
    {
      "cell_type": "code",
      "source": [
        "print(df.shape)\n",
        "print(len(RAVDESS_files), len(TESS_files), len(RAVDESS_files)+len(TESS_files))"
      ],
      "metadata": {
        "colab": {
          "base_uri": "https://localhost:8080/"
        },
        "id": "8tyaHHhEtNrh",
        "outputId": "a9e14ceb-dbe2-4566-e382-8443e62d2de9"
      },
      "id": "8tyaHHhEtNrh",
      "execution_count": 13,
      "outputs": [
        {
          "output_type": "stream",
          "name": "stdout",
          "text": [
            "(3847, 11)\n",
            "1168 2679 3847\n"
          ]
        }
      ]
    },
    {
      "cell_type": "markdown",
      "metadata": {
        "id": "exposed-county"
      },
      "source": [
        "### Data Exploration and Visualization (1 point)"
      ],
      "id": "exposed-county"
    },
    {
      "cell_type": "markdown",
      "metadata": {
        "id": "hungry-cleaner"
      },
      "source": [
        "#### Visualize the distribution of all the labels"
      ],
      "id": "hungry-cleaner"
    },
    {
      "cell_type": "code",
      "metadata": {
        "id": "orange-taiwan",
        "colab": {
          "base_uri": "https://localhost:8080/",
          "height": 494
        },
        "outputId": "454cc842-0f6a-4e6e-83b0-94ee3f136a92"
      },
      "source": [
        "# YOUR CODE HERE\n",
        "import seaborn as sns\n",
        "\n",
        "sns.set_theme(style=\"darkgrid\")\n",
        "\n",
        "sns.displot(\n",
        "    df, x=\"Emotion\", col=\"DataBase\",\n",
        "    binwidth=7, height=7, facet_kws=dict(margin_titles=True),\n",
        ")"
      ],
      "id": "orange-taiwan",
      "execution_count": 14,
      "outputs": [
        {
          "output_type": "execute_result",
          "data": {
            "text/plain": [
              "<seaborn.axisgrid.FacetGrid at 0x7a27f1964ee0>"
            ]
          },
          "metadata": {},
          "execution_count": 14
        },
        {
          "output_type": "display_data",
          "data": {
            "text/plain": [
              "<Figure size 1400x700 with 2 Axes>"
            ],
            "image/png": "[encoded data removed]"
          },
          "metadata": {}
        }
      ]
    },
    {
      "cell_type": "markdown",
      "metadata": {
        "id": "established-airfare"
      },
      "source": [
        "#### Visualize sample audio signal using librosa"
      ],
      "id": "established-airfare"
    },
    {
      "cell_type": "code",
      "metadata": {
        "id": "outstanding-caribbean",
        "colab": {
          "base_uri": "https://localhost:8080/",
          "height": 370
        },
        "outputId": "b8bf5bdf-2f50-4397-8b62-d27069840412"
      },
      "source": [
        "# YOUR CODE HERE\n",
        "sample_audio_path = TESS_files[0]\n",
        "\n",
        "# librosa is used for analyzing and extracting features of an audio signal\n",
        "data, sampling_rate = librosa.load(sample_audio_path)\n",
        "plt.figure(figsize=(15, 5))\n",
        "\n",
        "# librosa.display.waveshow is used to plot waveform of amplitude vs time\n",
        "librosa.display.waveshow(data, sr=sampling_rate)\n",
        "plt.title('Waveform')\n",
        "plt.xlabel('Time (s)')\n",
        "plt.ylabel('Amplitude')\n",
        "plt.show()\n"
      ],
      "id": "outstanding-caribbean",
      "execution_count": 17,
      "outputs": [
        {
          "output_type": "display_data",
          "data": {
            "text/plain": [
              "<Figure size 1500x500 with 1 Axes>"
            ],
            "image/png": "[encoded data removed]"
          },
          "metadata": {}
        }
      ]
    },
    {
      "cell_type": "markdown",
      "metadata": {
        "id": "medical-confidence"
      },
      "source": [
        "### Feature extraction (2 points)\n",
        "\n",
        "Read one WAV file at a time using `Librosa`. An audio time series in the form of a 1-dimensional array for mono or 2-dimensional array for stereo, along with time sampling rate (which defines the length of the array), where the elements within each of the arrays represent the amplitude of the sound waves is returned by `librosa.load()` function. Refer to the supplementary notebook ('Audio feature extraction')\n",
        "\n",
        "To know more about Librosa, explore the [link](https://librosa.org/doc/latest/feature.html)"
      ],
      "id": "medical-confidence"
    },
    {
      "cell_type": "code",
      "metadata": {
        "id": "piano-accent"
      },
      "source": [
        "# YOUR CODE HERE\n",
        "def extract_feature(file_name):\n",
        "    # load audio\n",
        "    X, sample_rate = librosa.load(file_name)\n",
        "    # apply stft()\n",
        "    stft=np.abs(librosa.stft(X))\n",
        "    result=np.array([])\n",
        "    # compute mfcc\n",
        "    mfccs=np.mean(librosa.feature.mfcc(y=X, sr=sample_rate, n_mfcc=40).T,axis=0)\n",
        "    # combine the features\n",
        "    result=np.hstack((result, mfccs))\n",
        "    # compute chroma features and combine\n",
        "    chroma=np.mean(librosa.feature.chroma_stft(S=stft, sr=sample_rate).T,axis=0)\n",
        "    result=np.hstack((result, chroma))\n",
        "    # compute melspectrogram and combine\n",
        "    mel=np.mean(librosa.feature.melspectrogram(y=X, sr=sample_rate).T,axis=0)\n",
        "    result=np.hstack((result, mel))\n",
        "    return result"
      ],
      "id": "piano-accent",
      "execution_count": 18,
      "outputs": []
    },
    {
      "cell_type": "code",
      "source": [
        "sample_feature = extract_feature(TESS_files[0]) #,mfcc=True, chroma=True, mel=True)\n",
        "sample_feature.shape"
      ],
      "metadata": {
        "colab": {
          "base_uri": "https://localhost:8080/"
        },
        "id": "oVSF9AE88YH2",
        "outputId": "eeb7cee1-fe33-4f01-aac9-4bdce683bf31"
      },
      "id": "oVSF9AE88YH2",
      "execution_count": 19,
      "outputs": [
        {
          "output_type": "execute_result",
          "data": {
            "text/plain": [
              "(180,)"
            ]
          },
          "metadata": {},
          "execution_count": 19
        }
      ]
    },
    {
      "cell_type": "code",
      "source": [
        "type(sample_feature)"
      ],
      "metadata": {
        "colab": {
          "base_uri": "https://localhost:8080/"
        },
        "id": "HpT1CRNL8e64",
        "outputId": "d72d3126-c5ab-4980-a4a6-5db21f7b10fc"
      },
      "id": "HpT1CRNL8e64",
      "execution_count": 20,
      "outputs": [
        {
          "output_type": "execute_result",
          "data": {
            "text/plain": [
              "numpy.ndarray"
            ]
          },
          "metadata": {},
          "execution_count": 20
        }
      ]
    },
    {
      "cell_type": "code",
      "source": [
        "sample_feature"
      ],
      "metadata": {
        "colab": {
          "base_uri": "https://localhost:8080/"
        },
        "id": "14NQpZ-H8xph",
        "outputId": "b84a113b-46e4-4da6-cce4-90384e97e5ee"
      },
      "id": "14NQpZ-H8xph",
      "execution_count": 21,
      "outputs": [
        {
          "output_type": "execute_result",
          "data": {
            "text/plain": [
              "array([-5.35438171e+02,  7.11265488e+01,  1.71655293e+01,  1.43926191e+01,\n",
              "        1.36271849e+01,  6.44883537e+00, -8.01545024e-01, -6.09502363e+00,\n",
              "       -1.28948879e+01,  5.63321590e-01, -8.76850700e+00,  3.14306664e+00,\n",
              "       -4.52986431e+00,  7.34691286e+00,  7.44057894e+00,  2.21595883e+00,\n",
              "       -2.67701101e+00,  6.95340443e+00,  8.01408470e-01, -3.56789494e+00,\n",
              "        1.81713581e+00,  3.03524995e+00, -4.89024639e+00,  2.42212939e+00,\n",
              "       -4.65756989e+00, -1.19178466e-01, -5.22606182e+00,  2.26698804e+00,\n",
              "       -9.56513882e-01,  1.80105662e+00, -4.67123795e+00,  1.41466093e+00,\n",
              "       -6.37996101e+00, -5.13563967e+00, -7.40244210e-01,  6.72641134e+00,\n",
              "        1.62424793e+01,  2.95515919e+01,  3.15260410e+01,  3.09450932e+01,\n",
              "        6.07919157e-01,  4.12964344e-01,  3.03956300e-01,  3.32749635e-01,\n",
              "        4.66094792e-01,  8.21773529e-01,  6.25635803e-01,  3.94999236e-01,\n",
              "        3.00642461e-01,  3.27432096e-01,  3.11339259e-01,  3.92668545e-01,\n",
              "        2.55672429e-02,  7.11742032e-04,  3.11282274e-05,  1.80058505e-05,\n",
              "        1.67101956e-04,  8.98247808e-02,  4.15181994e-01,  5.97971231e-02,\n",
              "        1.39724149e-03,  3.01657536e-04,  1.85938261e-04,  3.82240443e-03,\n",
              "        3.83214146e-01,  1.11191106e+00,  2.06556126e-01,  1.59142390e-02,\n",
              "        2.57551554e-03,  5.41973917e-04,  5.12376009e-03,  4.26094055e-01,\n",
              "        5.17651677e-01,  3.27321216e-02,  1.38636748e-03,  4.68847866e-05,\n",
              "        3.93355076e-05,  1.43511675e-03,  1.26425093e-02,  9.85536911e-03,\n",
              "        6.50159200e-04,  1.41980912e-04,  2.55717841e-05,  4.37037052e-05,\n",
              "        9.97309689e-04,  5.64350421e-03,  6.20509312e-03,  2.81538768e-03,\n",
              "        8.96209909e-04,  3.21632921e-04,  1.86799778e-04,  2.24036467e-03,\n",
              "        3.25737684e-03,  2.03198008e-03,  5.79069485e-04,  2.21514638e-04,\n",
              "        1.40346191e-03,  6.54922798e-03,  6.64491067e-03,  4.54937923e-04,\n",
              "        1.05777850e-04,  4.83072392e-04,  1.06353965e-02,  1.28924819e-02,\n",
              "        3.45363951e-04,  1.08083812e-04,  7.81119394e-04,  6.95867324e-03,\n",
              "        1.46401045e-03,  6.35508390e-04,  9.56110714e-04,  3.28411860e-03,\n",
              "        1.75703526e-03,  2.68307223e-04,  3.69913847e-04,  9.14635253e-04,\n",
              "        3.17001366e-04,  6.21385843e-05,  3.01793945e-04,  3.47068795e-04,\n",
              "        4.37717608e-05,  9.61251935e-05,  1.45524857e-04,  1.27240666e-04,\n",
              "        3.95188574e-04,  3.30501265e-04,  6.77306962e-04,  1.26046571e-03,\n",
              "        5.14212355e-04,  3.31485906e-04,  2.25759795e-04,  1.54300797e-04,\n",
              "        2.04343291e-04,  1.75490713e-04,  1.00364567e-04,  6.53521711e-05,\n",
              "        1.30528744e-04,  1.27195832e-04,  1.41406461e-04,  8.95875637e-05,\n",
              "        1.53845802e-04,  3.47277935e-04,  5.46868425e-04,  6.13961194e-04,\n",
              "        4.90998791e-04,  3.68175562e-04,  2.26235032e-04,  2.46115000e-04,\n",
              "        1.77755253e-04,  1.27191030e-04,  9.07859649e-05,  6.63797255e-05,\n",
              "        7.43139099e-05,  1.30753135e-04,  1.72249202e-04,  6.71710513e-05,\n",
              "        5.54601938e-05,  6.17334081e-05,  8.70041331e-05,  8.53409292e-05,\n",
              "        7.33265988e-05,  1.26657338e-04,  7.81347044e-05,  7.20383687e-05,\n",
              "        1.27995983e-04,  2.03757110e-04,  1.46758408e-04,  9.05766792e-05,\n",
              "        1.16827483e-04,  1.61389602e-04,  1.08616601e-04,  6.20333085e-05,\n",
              "        4.37204581e-05,  2.85262395e-05,  3.01260807e-05,  3.58500401e-05,\n",
              "        4.08118758e-05,  4.35205293e-05,  3.12260090e-05,  2.37002496e-06])"
            ]
          },
          "metadata": {},
          "execution_count": 21
        }
      ]
    },
    {
      "cell_type": "markdown",
      "metadata": {
        "id": "7d3bd640"
      },
      "source": [
        "#### Create a dictionary or a function to encode the emotions"
      ],
      "id": "7d3bd640"
    },
    {
      "cell_type": "code",
      "metadata": {
        "id": "c0c8d44d"
      },
      "source": [
        "# YOUR CODE HERE\n",
        "# This part has already been completed in part 1"
      ],
      "id": "c0c8d44d",
      "execution_count": null,
      "outputs": []
    },
    {
      "cell_type": "markdown",
      "metadata": {
        "id": "coupled-villa"
      },
      "source": [
        "#### TESS data feature extraction"
      ],
      "id": "coupled-villa"
    },
    {
      "cell_type": "code",
      "metadata": {
        "id": "quarterly-adrian"
      },
      "source": [
        "# YOUR CODE HERE\n",
        "\n",
        "features = []\n",
        "\n",
        "for index, row in df.iterrows():\n",
        "  features.append(extract_feature(row['FilePath']))"
      ],
      "id": "quarterly-adrian",
      "execution_count": 39,
      "outputs": []
    },
    {
      "cell_type": "code",
      "source": [
        "len(features)"
      ],
      "metadata": {
        "colab": {
          "base_uri": "https://localhost:8080/"
        },
        "id": "ws0qwH11FijE",
        "outputId": "a411588f-be07-48de-fd5b-e09a6b8c1bb0"
      },
      "id": "ws0qwH11FijE",
      "execution_count": 40,
      "outputs": [
        {
          "output_type": "execute_result",
          "data": {
            "text/plain": [
              "3847"
            ]
          },
          "metadata": {},
          "execution_count": 40
        }
      ]
    },
    {
      "cell_type": "code",
      "source": [
        "df2 = df.copy()"
      ],
      "metadata": {
        "id": "XZ7DISWuGc8l"
      },
      "id": "XZ7DISWuGc8l",
      "execution_count": 41,
      "outputs": []
    },
    {
      "cell_type": "code",
      "source": [
        "df2['Features'] = features"
      ],
      "metadata": {
        "id": "WQq0qAP7Gfqz"
      },
      "id": "WQq0qAP7Gfqz",
      "execution_count": 43,
      "outputs": []
    },
    {
      "cell_type": "code",
      "source": [
        "df2.head()"
      ],
      "metadata": {
        "colab": {
          "base_uri": "https://localhost:8080/",
          "height": 400
        },
        "id": "JOYCAzuDGmCI",
        "outputId": "1503cf81-1cea-41c7-e9a8-722d8b9beb4b"
      },
      "id": "JOYCAzuDGmCI",
      "execution_count": 44,
      "outputs": [
        {
          "output_type": "execute_result",
          "data": {
            "text/plain": [
              "     Modality VocalChannel  Emotion EmotionalIntensity           Statement  \\\n",
              "0  audio-only       speech  neutral            Unknown   Say the word kill   \n",
              "1  audio-only       speech  neutral            Unknown   Say the word soap   \n",
              "2  audio-only       speech  neutral            Unknown  Say the word perch   \n",
              "3  audio-only       speech  neutral            Unknown    Say the word gin   \n",
              "4  audio-only       speech  neutral            Unknown   Say the word book   \n",
              "\n",
              "       Repetition Actor ActorGender ActorAge DataBase  \\\n",
              "0  1st repetition    26      Female      Old     TESS   \n",
              "1  1st repetition    26      Female      Old     TESS   \n",
              "2  1st repetition    26      Female      Old     TESS   \n",
              "3  1st repetition    26      Female      Old     TESS   \n",
              "4  1st repetition    26      Female      Old     TESS   \n",
              "\n",
              "                                 FilePath  \\\n",
              "0   Tess/OAF_neutral/OAF_kill_neutral.wav   \n",
              "1   Tess/OAF_neutral/OAF_soap_neutral.wav   \n",
              "2  Tess/OAF_neutral/OAF_perch_neutral.wav   \n",
              "3    Tess/OAF_neutral/OAF_gin_neutral.wav   \n",
              "4   Tess/OAF_neutral/OAF_book_neutral.wav   \n",
              "\n",
              "                                            Features  \n",
              "0  [-535.4381713867188, 71.12654876708984, 17.165...  \n",
              "1  [-513.8740844726562, 57.71699142456055, 27.043...  \n",
              "2  [-561.0319213867188, 71.39986419677734, 20.260...  \n",
              "3  [-515.9534912109375, 63.02273178100586, 14.171...  \n",
              "4  [-512.681884765625, 70.71073913574219, 21.6523...  "
            ],
            "text/html": [
              "\n",
              "  <div id=\"df-2fe8f88e-d568-401c-a48c-6a708b57922b\" class=\"colab-df-container\">\n",
              "    <div>\n",
              "<style scoped>\n",
              "    .dataframe tbody tr th:only-of-type {\n",
              "        vertical-align: middle;\n",
              "    }\n",
              "\n",
              "    .dataframe tbody tr th {\n",
              "        vertical-align: top;\n",
              "    }\n",
              "\n",
              "    .dataframe thead th {\n",
              "        text-align: right;\n",
              "    }\n",
              "</style>\n",
              "<table border=\"1\" class=\"dataframe\">\n",
              "  <thead>\n",
              "    <tr style=\"text-align: right;\">\n",
              "      <th></th>\n",
              "      <th>Modality</th>\n",
              "      <th>VocalChannel</th>\n",
              "      <th>Emotion</th>\n",
              "      <th>EmotionalIntensity</th>\n",
              "      <th>Statement</th>\n",
              "      <th>Repetition</th>\n",
              "      <th>Actor</th>\n",
              "      <th>ActorGender</th>\n",
              "      <th>ActorAge</th>\n",
              "      <th>DataBase</th>\n",
              "      <th>FilePath</th>\n",
              "      <th>Features</th>\n",
              "    </tr>\n",
              "  </thead>\n",
              "  <tbody>\n",
              "    <tr>\n",
              "      <th>0</th>\n",
              "      <td>audio-only</td>\n",
              "      <td>speech</td>\n",
              "      <td>neutral</td>\n",
              "      <td>Unknown</td>\n",
              "      <td>Say the word kill</td>\n",
              "      <td>1st repetition</td>\n",
              "      <td>26</td>\n",
              "      <td>Female</td>\n",
              "      <td>Old</td>\n",
              "      <td>TESS</td>\n",
              "      <td>Tess/OAF_neutral/OAF_kill_neutral.wav</td>\n",
              "      <td>[-535.4381713867188, 71.12654876708984, 17.165...</td>\n",
              "    </tr>\n",
              "    <tr>\n",
              "      <th>1</th>\n",
              "      <td>audio-only</td>\n",
              "      <td>speech</td>\n",
              "      <td>neutral</td>\n",
              "      <td>Unknown</td>\n",
              "      <td>Say the word soap</td>\n",
              "      <td>1st repetition</td>\n",
              "      <td>26</td>\n",
              "      <td>Female</td>\n",
              "      <td>Old</td>\n",
              "      <td>TESS</td>\n",
              "      <td>Tess/OAF_neutral/OAF_soap_neutral.wav</td>\n",
              "      <td>[-513.8740844726562, 57.71699142456055, 27.043...</td>\n",
              "    </tr>\n",
              "    <tr>\n",
              "      <th>2</th>\n",
              "      <td>audio-only</td>\n",
              "      <td>speech</td>\n",
              "      <td>neutral</td>\n",
              "      <td>Unknown</td>\n",
              "      <td>Say the word perch</td>\n",
              "      <td>1st repetition</td>\n",
              "      <td>26</td>\n",
              "      <td>Female</td>\n",
              "      <td>Old</td>\n",
              "      <td>TESS</td>\n",
              "      <td>Tess/OAF_neutral/OAF_perch_neutral.wav</td>\n",
              "      <td>[-561.0319213867188, 71.39986419677734, 20.260...</td>\n",
              "    </tr>\n",
              "    <tr>\n",
              "      <th>3</th>\n",
              "      <td>audio-only</td>\n",
              "      <td>speech</td>\n",
              "      <td>neutral</td>\n",
              "      <td>Unknown</td>\n",
              "      <td>Say the word gin</td>\n",
              "      <td>1st repetition</td>\n",
              "      <td>26</td>\n",
              "      <td>Female</td>\n",
              "      <td>Old</td>\n",
              "      <td>TESS</td>\n",
              "      <td>Tess/OAF_neutral/OAF_gin_neutral.wav</td>\n",
              "      <td>[-515.9534912109375, 63.02273178100586, 14.171...</td>\n",
              "    </tr>\n",
              "    <tr>\n",
              "      <th>4</th>\n",
              "      <td>audio-only</td>\n",
              "      <td>speech</td>\n",
              "      <td>neutral</td>\n",
              "      <td>Unknown</td>\n",
              "      <td>Say the word book</td>\n",
              "      <td>1st repetition</td>\n",
              "      <td>26</td>\n",
              "      <td>Female</td>\n",
              "      <td>Old</td>\n",
              "      <td>TESS</td>\n",
              "      <td>Tess/OAF_neutral/OAF_book_neutral.wav</td>\n",
              "      <td>[-512.681884765625, 70.71073913574219, 21.6523...</td>\n",
              "    </tr>\n",
              "  </tbody>\n",
              "</table>\n",
              "</div>\n",
              "    <div class=\"colab-df-buttons\">\n",
              "\n",
              "  <div class=\"colab-df-container\">\n",
              "    <button class=\"colab-df-convert\" onclick=\"convertToInteractive('df-2fe8f88e-d568-401c-a48c-6a708b57922b')\"\n",
              "            title=\"Convert this dataframe to an interactive table.\"\n",
              "            style=\"display:none;\">\n",
              "\n",
              "  <svg xmlns=\"http://www.w3.org/2000/svg\" height=\"24px\" viewBox=\"0 -960 960 960\">\n",
              "    <path d=\"M120-120v-720h720v720H120Zm60-500h600v-160H180v160Zm220 220h160v-160H400v160Zm0 220h160v-160H400v160ZM180-400h160v-160H180v160Zm440 0h160v-160H620v160ZM180-180h160v-160H180v160Zm440 0h160v-160H620v160Z\"/>\n",
              "  </svg>\n",
              "    </button>\n",
              "\n",
              "  <style>\n",
              "    .colab-df-container {\n",
              "      display:flex;\n",
              "      gap: 12px;\n",
              "    }\n",
              "\n",
              "    .colab-df-convert {\n",
              "      background-color: #E8F0FE;\n",
              "      border: none;\n",
              "      border-radius: 50%;\n",
              "      cursor: pointer;\n",
              "      display: none;\n",
              "      fill: #1967D2;\n",
              "      height: 32px;\n",
              "      padding: 0 0 0 0;\n",
              "      width: 32px;\n",
              "    }\n",
              "\n",
              "    .colab-df-convert:hover {\n",
              "      background-color: #E2EBFA;\n",
              "      box-shadow: 0px 1px 2px rgba(60, 64, 67, 0.3), 0px 1px 3px 1px rgba(60, 64, 67, 0.15);\n",
              "      fill: #174EA6;\n",
              "    }\n",
              "\n",
              "    .colab-df-buttons div {\n",
              "      margin-bottom: 4px;\n",
              "    }\n",
              "\n",
              "    [theme=dark] .colab-df-convert {\n",
              "      background-color: #3B4455;\n",
              "      fill: #D2E3FC;\n",
              "    }\n",
              "\n",
              "    [theme=dark] .colab-df-convert:hover {\n",
              "      background-color: #434B5C;\n",
              "      box-shadow: 0px 1px 3px 1px rgba(0, 0, 0, 0.15);\n",
              "      filter: drop-shadow(0px 1px 2px rgba(0, 0, 0, 0.3));\n",
              "      fill: #FFFFFF;\n",
              "    }\n",
              "  </style>\n",
              "\n",
              "    <script>\n",
              "      const buttonEl =\n",
              "        document.querySelector('#df-2fe8f88e-d568-401c-a48c-6a708b57922b button.colab-df-convert');\n",
              "      buttonEl.style.display =\n",
              "        google.colab.kernel.accessAllowed ? 'block' : 'none';\n",
              "\n",
              "      async function convertToInteractive(key) {\n",
              "        const element = document.querySelector('#df-2fe8f88e-d568-401c-a48c-6a708b57922b');\n",
              "        const dataTable =\n",
              "          await google.colab.kernel.invokeFunction('convertToInteractive',\n",
              "                                                    [key], {});\n",
              "        if (!dataTable) return;\n",
              "\n",
              "        const docLinkHtml = 'Like what you see? Visit the ' +\n",
              "          '<a target=\"_blank\" href=https://colab.research.google.com/notebooks/data_table.ipynb>data table notebook</a>'\n",
              "          + ' to learn more about interactive tables.';\n",
              "        element.innerHTML = '';\n",
              "        dataTable['output_type'] = 'display_data';\n",
              "        await google.colab.output.renderOutput(dataTable, element);\n",
              "        const docLink = document.createElement('div');\n",
              "        docLink.innerHTML = docLinkHtml;\n",
              "        element.appendChild(docLink);\n",
              "      }\n",
              "    </script>\n",
              "  </div>\n",
              "\n",
              "\n",
              "<div id=\"df-ec470ed4-5e7d-4ad3-aa0e-4c913e1bedd2\">\n",
              "  <button class=\"colab-df-quickchart\" onclick=\"quickchart('df-ec470ed4-5e7d-4ad3-aa0e-4c913e1bedd2')\"\n",
              "            title=\"Suggest charts\"\n",
              "            style=\"display:none;\">\n",
              "\n",
              "<svg xmlns=\"http://www.w3.org/2000/svg\" height=\"24px\"viewBox=\"0 0 24 24\"\n",
              "     width=\"24px\">\n",
              "    <g>\n",
              "        <path d=\"M19 3H5c-1.1 0-2 .9-2 2v14c0 1.1.9 2 2 2h14c1.1 0 2-.9 2-2V5c0-1.1-.9-2-2-2zM9 17H7v-7h2v7zm4 0h-2V7h2v10zm4 0h-2v-4h2v4z\"/>\n",
              "    </g>\n",
              "</svg>\n",
              "  </button>\n",
              "\n",
              "<style>\n",
              "  .colab-df-quickchart {\n",
              "      --bg-color: #E8F0FE;\n",
              "      --fill-color: #1967D2;\n",
              "      --hover-bg-color: #E2EBFA;\n",
              "      --hover-fill-color: #174EA6;\n",
              "      --disabled-fill-color: #AAA;\n",
              "      --disabled-bg-color: #DDD;\n",
              "  }\n",
              "\n",
              "  [theme=dark] .colab-df-quickchart {\n",
              "      --bg-color: #3B4455;\n",
              "      --fill-color: #D2E3FC;\n",
              "      --hover-bg-color: #434B5C;\n",
              "      --hover-fill-color: #FFFFFF;\n",
              "      --disabled-bg-color: #3B4455;\n",
              "      --disabled-fill-color: #666;\n",
              "  }\n",
              "\n",
              "  .colab-df-quickchart {\n",
              "    background-color: var(--bg-color);\n",
              "    border: none;\n",
              "    border-radius: 50%;\n",
              "    cursor: pointer;\n",
              "    display: none;\n",
              "    fill: var(--fill-color);\n",
              "    height: 32px;\n",
              "    padding: 0;\n",
              "    width: 32px;\n",
              "  }\n",
              "\n",
              "  .colab-df-quickchart:hover {\n",
              "    background-color: var(--hover-bg-color);\n",
              "    box-shadow: 0 1px 2px rgba(60, 64, 67, 0.3), 0 1px 3px 1px rgba(60, 64, 67, 0.15);\n",
              "    fill: var(--button-hover-fill-color);\n",
              "  }\n",
              "\n",
              "  .colab-df-quickchart-complete:disabled,\n",
              "  .colab-df-quickchart-complete:disabled:hover {\n",
              "    background-color: var(--disabled-bg-color);\n",
              "    fill: var(--disabled-fill-color);\n",
              "    box-shadow: none;\n",
              "  }\n",
              "\n",
              "  .colab-df-spinner {\n",
              "    border: 2px solid var(--fill-color);\n",
              "    border-color: transparent;\n",
              "    border-bottom-color: var(--fill-color);\n",
              "    animation:\n",
              "      spin 1s steps(1) infinite;\n",
              "  }\n",
              "\n",
              "  @keyframes spin {\n",
              "    0% {\n",
              "      border-color: transparent;\n",
              "      border-bottom-color: var(--fill-color);\n",
              "      border-left-color: var(--fill-color);\n",
              "    }\n",
              "    20% {\n",
              "      border-color: transparent;\n",
              "      border-left-color: var(--fill-color);\n",
              "      border-top-color: var(--fill-color);\n",
              "    }\n",
              "    30% {\n",
              "      border-color: transparent;\n",
              "      border-left-color: var(--fill-color);\n",
              "      border-top-color: var(--fill-color);\n",
              "      border-right-color: var(--fill-color);\n",
              "    }\n",
              "    40% {\n",
              "      border-color: transparent;\n",
              "      border-right-color: var(--fill-color);\n",
              "      border-top-color: var(--fill-color);\n",
              "    }\n",
              "    60% {\n",
              "      border-color: transparent;\n",
              "      border-right-color: var(--fill-color);\n",
              "    }\n",
              "    80% {\n",
              "      border-color: transparent;\n",
              "      border-right-color: var(--fill-color);\n",
              "      border-bottom-color: var(--fill-color);\n",
              "    }\n",
              "    90% {\n",
              "      border-color: transparent;\n",
              "      border-bottom-color: var(--fill-color);\n",
              "    }\n",
              "  }\n",
              "</style>\n",
              "\n",
              "  <script>\n",
              "    async function quickchart(key) {\n",
              "      const quickchartButtonEl =\n",
              "        document.querySelector('#' + key + ' button');\n",
              "      quickchartButtonEl.disabled = true;  // To prevent multiple clicks.\n",
              "      quickchartButtonEl.classList.add('colab-df-spinner');\n",
              "      try {\n",
              "        const charts = await google.colab.kernel.invokeFunction(\n",
              "            'suggestCharts', [key], {});\n",
              "      } catch (error) {\n",
              "        console.error('Error during call to suggestCharts:', error);\n",
              "      }\n",
              "      quickchartButtonEl.classList.remove('colab-df-spinner');\n",
              "      quickchartButtonEl.classList.add('colab-df-quickchart-complete');\n",
              "    }\n",
              "    (() => {\n",
              "      let quickchartButtonEl =\n",
              "        document.querySelector('#df-ec470ed4-5e7d-4ad3-aa0e-4c913e1bedd2 button');\n",
              "      quickchartButtonEl.style.display =\n",
              "        google.colab.kernel.accessAllowed ? 'block' : 'none';\n",
              "    })();\n",
              "  </script>\n",
              "</div>\n",
              "    </div>\n",
              "  </div>\n"
            ],
            "application/vnd.google.colaboratory.intrinsic+json": {
              "type": "dataframe",
              "variable_name": "df2",
              "repr_error": "'str' object has no attribute 'empty'"
            }
          },
          "metadata": {},
          "execution_count": 44
        }
      ]
    },
    {
      "cell_type": "markdown",
      "metadata": {
        "id": "qKzclsG-FnW6"
      },
      "source": [
        "#### Ravdess data feature extraction"
      ],
      "id": "qKzclsG-FnW6"
    },
    {
      "cell_type": "code",
      "metadata": {
        "id": "iDwNOgKEIH3w"
      },
      "source": [
        "# YOUR CODE HERE\n",
        "#Done along with TESS features as part of the already combined dataframe"
      ],
      "id": "iDwNOgKEIH3w",
      "execution_count": null,
      "outputs": []
    },
    {
      "cell_type": "markdown",
      "metadata": {
        "id": "2bb62f16"
      },
      "source": [
        "#### Save the features\n",
        "\n",
        "It is best advised to save the features in dataframe and maintain so that feature extraction step is not required to be performed every time.\n",
        "\n",
        "* Make a DataFrame with features and labels\n",
        "\n",
        "* Write dataframe into `.CSV` file and save it offline."
      ],
      "id": "2bb62f16"
    },
    {
      "cell_type": "code",
      "metadata": {
        "id": "9ec91c16"
      },
      "source": [
        "# YOUR CODE HERE\n",
        "\n",
        "df2.to_csv('audio_features_labels.csv', index=False)"
      ],
      "id": "9ec91c16",
      "execution_count": 45,
      "outputs": []
    },
    {
      "cell_type": "markdown",
      "metadata": {
        "id": "aggressive-cause"
      },
      "source": [
        "#### Split the data into train and test"
      ],
      "id": "aggressive-cause"
    },
    {
      "cell_type": "code",
      "metadata": {
        "id": "nearby-angle"
      },
      "source": [
        "# YOUR CODE HERE"
      ],
      "id": "nearby-angle",
      "execution_count": null,
      "outputs": []
    },
    {
      "cell_type": "markdown",
      "metadata": {
        "id": "ordered-weapon"
      },
      "source": [
        "### Train the model with TESS + Ravdess data (2 points)\n",
        "\n",
        "* Apply different ML algorithms (eg. DecisionTree, RandomForest, etc.) and find the model with best performance"
      ],
      "id": "ordered-weapon"
    },
    {
      "cell_type": "code",
      "metadata": {
        "id": "EtlfZmtWSD_X"
      },
      "source": [
        "# YOUR CODE HERE"
      ],
      "id": "EtlfZmtWSD_X",
      "execution_count": null,
      "outputs": []
    },
    {
      "cell_type": "markdown",
      "metadata": {
        "id": "returning-bones"
      },
      "source": [
        "#### Apply the voting classifier"
      ],
      "id": "returning-bones"
    },
    {
      "cell_type": "code",
      "metadata": {
        "id": "fuzzy-respondent"
      },
      "source": [
        "# YOUR CODE HERE"
      ],
      "id": "fuzzy-respondent",
      "execution_count": null,
      "outputs": []
    },
    {
      "cell_type": "markdown",
      "metadata": {
        "id": "6p1MHeY9oYqB"
      },
      "source": [
        "### Train the model with TESS + Ravdess + Team recorded data (4 points)\n",
        "\n",
        "* Record the audio samples (team data), extract features and combine with TESS + Ravdess data features\n",
        "  - Record and gather all the team data samples with proper naming convention in separate folder\n",
        "\n",
        "    **Hint:** Follow the supplementary notebook to record team data\n",
        "\n",
        "  - Each team member must record 2 samples for each emotion (Use similar sentences as given in TESS data)\n",
        "\n",
        "* Train the different ML algorithms and find the model with best performance"
      ],
      "id": "6p1MHeY9oYqB"
    },
    {
      "cell_type": "markdown",
      "metadata": {
        "id": "M4In88rvtVmb"
      },
      "source": [
        "#### Load the team data"
      ],
      "id": "M4In88rvtVmb"
    },
    {
      "cell_type": "code",
      "metadata": {
        "id": "nna7EZMRaKCI"
      },
      "source": [
        "# YOUR CODE HERE"
      ],
      "id": "nna7EZMRaKCI",
      "execution_count": null,
      "outputs": []
    },
    {
      "cell_type": "markdown",
      "metadata": {
        "id": "awnyYAic36V0"
      },
      "source": [
        "#### Extracting features of team data and combine with TESS + Ravdess"
      ],
      "id": "awnyYAic36V0"
    },
    {
      "cell_type": "code",
      "metadata": {
        "id": "15br8qPwa2a6"
      },
      "source": [
        "# YOUR CODE HERE"
      ],
      "id": "15br8qPwa2a6",
      "execution_count": null,
      "outputs": []
    },
    {
      "cell_type": "markdown",
      "metadata": {
        "id": "w-ulIdIdtkDB"
      },
      "source": [
        "#### Train the different ML algorithms"
      ],
      "id": "w-ulIdIdtkDB"
    },
    {
      "cell_type": "code",
      "metadata": {
        "id": "xuUx7UTFtjIs"
      },
      "source": [
        "# YOUR CODE HERE"
      ],
      "id": "xuUx7UTFtjIs",
      "execution_count": null,
      "outputs": []
    },
    {
      "cell_type": "markdown",
      "metadata": {
        "id": "iMl0sRhXtXzL"
      },
      "source": [
        "#### Test the best working model with live audio recording"
      ],
      "id": "iMl0sRhXtXzL"
    },
    {
      "cell_type": "code",
      "metadata": {
        "id": "4znf9-pcTbUB"
      },
      "source": [
        "# choose the best working model and assign below\n",
        "MODEL ="
      ],
      "id": "4znf9-pcTbUB",
      "execution_count": null,
      "outputs": []
    },
    {
      "cell_type": "code",
      "metadata": {
        "cellView": "form",
        "id": "2d598770"
      },
      "source": [
        "#@title Speak the utterance and test\n",
        "from IPython.display import Javascript\n",
        "from google.colab import output\n",
        "from base64 import b64decode\n",
        "\n",
        "RECORD = \"\"\"\n",
        "const sleep  = time => new Promise(resolve => setTimeout(resolve, time))\n",
        "const b2text = blob => new Promise(resolve => {\n",
        "  const reader = new FileReader()\n",
        "  reader.onloadend = e => resolve(e.srcElement.result)\n",
        "  reader.readAsDataURL(blob)\n",
        "})\n",
        "var record = time => new Promise(async resolve => {\n",
        "  stream = await navigator.mediaDevices.getUserMedia({ audio: true })\n",
        "  recorder = new MediaRecorder(stream)\n",
        "  chunks = []\n",
        "  recorder.ondataavailable = e => chunks.push(e.data)\n",
        "  recorder.start()\n",
        "  await sleep(time)\n",
        "  recorder.onstop = async ()=>{\n",
        "    blob = new Blob(chunks)\n",
        "    text = await b2text(blob)\n",
        "    resolve(text)\n",
        "  }\n",
        "  recorder.stop()\n",
        "})\n",
        "\"\"\"\n",
        "\n",
        "if not os.path.exists('ModelTesting/'):\n",
        "    os.mkdir(\"ModelTesting/\")\n",
        "def record(sec=3):\n",
        "    print(\"Start speaking!\")\n",
        "    now = datetime.now()\n",
        "    current_time = now.strftime(\"%Y-%m-%d_%H-%M-%S\")\n",
        "    display(Javascript(RECORD))\n",
        "    s = output.eval_js('record(%d)' % (sec*1000))\n",
        "    b = b64decode(s.split(',')[1])\n",
        "    with open('ModelTesting/audio_'+current_time+'.wav','wb') as f:\n",
        "        f.write(b)\n",
        "    return 'ModelTesting/audio_'+current_time+'.wav'\n",
        "test_i = record()\n",
        "pred = MODEL.predict(extract_feature(test_i).reshape(1,-1))\n",
        "idx_emotion = list(emotions.values()).index(pred[0])\n",
        "print(list(emotions.keys())[idx_emotion])\n",
        "ipd.Audio(test_i)"
      ],
      "id": "2d598770",
      "execution_count": null,
      "outputs": []
    },
    {
      "cell_type": "markdown",
      "metadata": {
        "id": "K7n58VaeWKGu"
      },
      "source": [
        "### Report Analysis\n",
        "\n",
        "- Report the accuracy for 10 live samples using the model trained on TESS+Ravdess+Team data\n",
        "- Discuss with the team mentor regarding deep learnt audio features. Read a related article [here](https://ieeexplore.ieee.org/stamp/stamp.jsp?arnumber=8805181).\n"
      ],
      "id": "K7n58VaeWKGu"
    }
  ]
}